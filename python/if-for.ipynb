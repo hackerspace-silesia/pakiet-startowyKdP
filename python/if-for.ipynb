{
 "cells": [
  {
   "cell_type": "code",
   "execution_count": null,
   "metadata": {
    "collapsed": false
   },
   "outputs": [],
   "source": [
    "x = int(raw_input('podaj liczbe: '))\n",
    "if x > 1000:\n",
    "    print('ojezu co za duza liczba')"
   ]
  },
  {
   "cell_type": "code",
   "execution_count": null,
   "metadata": {
    "collapsed": false
   },
   "outputs": [],
   "source": [
    "x = int(raw_input('podaj liczbe: '))\n",
    "if x > 1000:\n",
    "    print('ojezu co za duza liczba')\n",
    "else:\n",
    "    print('malutka jakas')"
   ]
  },
  {
   "cell_type": "code",
   "execution_count": null,
   "metadata": {
    "collapsed": false
   },
   "outputs": [],
   "source": [
    "x = int(raw_input('podaj dodatnia liczbe: '))\n",
    "if x > 0:\n",
    "    print('spoko')\n",
    "elif x < 0:\n",
    "    print('dodatnia baranie ma byc')\n",
    "else:\n",
    "    print('styknie')"
   ]
  },
  {
   "cell_type": "code",
   "execution_count": null,
   "metadata": {
    "collapsed": false
   },
   "outputs": [],
   "source": [
    "czy_bedzie_pizza = True\n",
    "if czy_bedzie_pizza:\n",
    "    print('yummy')"
   ]
  },
  {
   "cell_type": "code",
   "execution_count": null,
   "metadata": {
    "collapsed": false
   },
   "outputs": [],
   "source": [
    "for i in range(5):\n",
    "    print(i ** 2)"
   ]
  },
  {
   "cell_type": "code",
   "execution_count": null,
   "metadata": {
    "collapsed": false
   },
   "outputs": [],
   "source": [
    "lista = [-1, 1, 0.5, 3.14, 'kajaka']\n",
    "for i in lista:\n",
    "    print(i * 2)"
   ]
  },
  {
   "cell_type": "code",
   "execution_count": null,
   "metadata": {
    "collapsed": false
   },
   "outputs": [],
   "source": [
    "for i, val in enumerate(lista):\n",
    "    s = '{}: {}'.format(i, val)\n",
    "    print(s)"
   ]
  },
  {
   "cell_type": "code",
   "execution_count": null,
   "metadata": {
    "collapsed": false
   },
   "outputs": [],
   "source": [
    "kordynaty = [\n",
    "    (0, 0),\n",
    "    (0, 1),\n",
    "    (5, 5),\n",
    "    (10, 4)\n",
    "]\n",
    "for x, y in kordynaty:\n",
    "    print(x + y)"
   ]
  },
  {
   "cell_type": "code",
   "execution_count": null,
   "metadata": {
    "collapsed": false
   },
   "outputs": [],
   "source": [
    "slownik = {'a': 42, 'b': 50}\n",
    "for key, value in slownik.items():\n",
    "    s = '{}: {}'.format(key, value)\n",
    "    print(s)"
   ]
  },
  {
   "cell_type": "code",
   "execution_count": null,
   "metadata": {
    "collapsed": false
   },
   "outputs": [],
   "source": [
    "help(dict)"
   ]
  },
  {
   "cell_type": "code",
   "execution_count": null,
   "metadata": {
    "collapsed": true
   },
   "outputs": [],
   "source": [
    "#zadanie: napisz program który w pętli pobierze 5 liczb parzystych (poszukaj: python modulo)\n",
    "#oraz wyswietli na końcu sumę (funkcja sum, uzyj help)"
   ]
  }
 ],
 "metadata": {
  "kernelspec": {
   "display_name": "Python 2",
   "language": "python",
   "name": "python2"
  },
  "language_info": {
   "codemirror_mode": {
    "name": "ipython",
    "version": 2
   },
   "file_extension": ".py",
   "mimetype": "text/x-python",
   "name": "python",
   "nbconvert_exporter": "python",
   "pygments_lexer": "ipython2",
   "version": "2.7.11"
  }
 },
 "nbformat": 4,
 "nbformat_minor": 0
}
